{
  "nbformat": 4,
  "nbformat_minor": 0,
  "metadata": {
    "colab": {
      "provenance": [],
      "include_colab_link": true
    },
    "kernelspec": {
      "name": "python3",
      "display_name": "Python 3"
    },
    "language_info": {
      "name": "python"
    }
  },
  "cells": [
    {
      "cell_type": "markdown",
      "metadata": {
        "id": "view-in-github",
        "colab_type": "text"
      },
      "source": [
        "<a href=\"https://colab.research.google.com/github/brinvxs/brinvxs/blob/main/(7_17)_Coding_Sample.ipynb\" target=\"_parent\"><img src=\"https://colab.research.google.com/assets/colab-badge.svg\" alt=\"Open In Colab\"/></a>"
      ]
    },
    {
      "cell_type": "code",
      "source": [
        "# @title Range and Len Function\n",
        "\n",
        "\n",
        "# len(my_list) gives the number of elements in my_list\n",
        "# range(len(my_list)) generates indices from 0 to len(my_list) - 1\n",
        "# The loop variable i represents each index, allowing access to elements by indexing"
      ],
      "metadata": {
        "id": "wxRlHH29XVfr"
      },
      "execution_count": null,
      "outputs": []
    },
    {
      "cell_type": "code",
      "source": [
        "fruits = ['apple', 'banana', 'cherry']\n",
        "for i in range(len(fruits)):\n",
        "    print(f\"Index {i}: {fruits[i]}\")"
      ],
      "metadata": {
        "id": "cC_ecIqaYeuN",
        "colab": {
          "base_uri": "https://localhost:8080/"
        },
        "outputId": "f6a0b2c1-3e72-45c1-bfb1-4624e5aa533f"
      },
      "execution_count": null,
      "outputs": [
        {
          "output_type": "stream",
          "name": "stdout",
          "text": [
            "Index 0: apple\n",
            "Index 1: banana\n",
            "Index 2: cherry\n"
          ]
        }
      ]
    },
    {
      "cell_type": "code",
      "source": [
        "#Different ways of using print\n",
        "Cool_name = \"Jonnathan\"\n",
        "print(\"Hello, I like\", fruits[0],\"and apple pie\")\n",
        "print(f\"Hello, I like {fruits[0]} and apple pie\")\n",
        "print(Cool_name)"
      ],
      "metadata": {
        "colab": {
          "base_uri": "https://localhost:8080/"
        },
        "id": "DitdMC0otKOs",
        "outputId": "66f2bd44-7dac-43ee-ed29-6de7c9818fca"
      },
      "execution_count": null,
      "outputs": [
        {
          "output_type": "stream",
          "name": "stdout",
          "text": [
            "Hello, I like apple and apple pie\n",
            "Hello, I like apple and apple pie\n",
            "Jonnathan\n"
          ]
        }
      ]
    },
    {
      "cell_type": "code",
      "source": [
        "# @title Enumerate\n",
        "# enumerate(my_list) returns pairs of (index, value)\n",
        "# Convenient for situations where both index and element are needed"
      ],
      "metadata": {
        "cellView": "form",
        "id": "SDSeMm9wYssB"
      },
      "execution_count": null,
      "outputs": []
    },
    {
      "cell_type": "code",
      "source": [
        "for index, value in enumerate(fruits):\n",
        "    print(index, value)"
      ],
      "metadata": {
        "id": "O_3mT2KOYBF9",
        "colab": {
          "base_uri": "https://localhost:8080/"
        },
        "outputId": "2dca62d5-281c-4def-fa5d-56fbcbd6fd8b"
      },
      "execution_count": null,
      "outputs": [
        {
          "output_type": "stream",
          "name": "stdout",
          "text": [
            "0 apple\n",
            "1 banana\n",
            "2 cherry\n"
          ]
        }
      ]
    },
    {
      "cell_type": "code",
      "source": [
        "words = [\"Dog\", \"Cat\", \"Mouse\"]\n",
        "\n",
        "for index, word in enumerate(words):\n",
        "    words[index] = word + \"s\"\n",
        "\n",
        "print(words)"
      ],
      "metadata": {
        "colab": {
          "base_uri": "https://localhost:8080/"
        },
        "id": "j_29Nk0hz1Zu",
        "outputId": "e8293639-8e05-4c97-8525-94377d79fdca"
      },
      "execution_count": null,
      "outputs": [
        {
          "output_type": "stream",
          "name": "stdout",
          "text": [
            "['Dogs', 'Cats', 'Mouses']\n"
          ]
        }
      ]
    },
    {
      "cell_type": "code",
      "source": [
        "# @title Modifying Multiple Elements\n",
        "\n",
        "# Use range(len(my_list)) to get indices\n",
        "# Modify elements in place based on a condition"
      ],
      "metadata": {
        "cellView": "form",
        "id": "u0YjnHUfZV3r"
      },
      "execution_count": null,
      "outputs": []
    },
    {
      "cell_type": "code",
      "source": [
        "numbers = [1, 2, 3, 4, 5]\n",
        "for i in range(len(numbers)):\n",
        "    if numbers[i] % 2 == 0:\n",
        "        numbers[i] *= 2\n",
        "print(numbers)"
      ],
      "metadata": {
        "id": "KEhhWBMKZcWt",
        "colab": {
          "base_uri": "https://localhost:8080/"
        },
        "outputId": "fa0c87ed-fd64-4c3d-d65b-b65522322643"
      },
      "execution_count": null,
      "outputs": [
        {
          "output_type": "stream",
          "name": "stdout",
          "text": [
            "[1, 4, 3, 8, 5]\n"
          ]
        }
      ]
    },
    {
      "cell_type": "code",
      "source": [
        "# @title Swapping Elements in a list using loops\n",
        "\n",
        "Directly swap the values at two specified indices."
      ],
      "metadata": {
        "cellView": "form",
        "id": "he_RqICjbVb_"
      },
      "execution_count": null,
      "outputs": []
    },
    {
      "cell_type": "code",
      "source": [
        "words = [\"Dog\", \"Cat\", \"Mouse\"]\n",
        "print(words)\n",
        "# Swap two elements\n",
        "words[0], words[1] = words[1], words[0]\n",
        "print(words)"
      ],
      "metadata": {
        "id": "n_2nhRzlbeYC",
        "colab": {
          "base_uri": "https://localhost:8080/"
        },
        "outputId": "e497a2ba-5a34-4a2b-a82f-626dd1c940a2"
      },
      "execution_count": null,
      "outputs": [
        {
          "output_type": "stream",
          "name": "stdout",
          "text": [
            "['Dog', 'Cat', 'Mouse']\n",
            "['Cat', 'Dog', 'Mouse']\n"
          ]
        }
      ]
    },
    {
      "cell_type": "code",
      "source": [
        "# @title Split\n",
        "\n",
        "sentence = \"Python is fun\"\n",
        "words = sentence.split()\n",
        "print(words)"
      ],
      "metadata": {
        "colab": {
          "base_uri": "https://localhost:8080/"
        },
        "id": "1y0wvzHsb4Ey",
        "outputId": "7a6cb948-7b52-4acc-be18-b957c34c99ba"
      },
      "execution_count": null,
      "outputs": [
        {
          "output_type": "stream",
          "name": "stdout",
          "text": [
            "['Python', 'is', 'fun']\n"
          ]
        }
      ]
    },
    {
      "cell_type": "markdown",
      "source": [
        "Random Generator"
      ],
      "metadata": {
        "id": "zakABL5oBgJS"
      }
    },
    {
      "cell_type": "code",
      "source": [
        "#Examples\n",
        "import random\n",
        "\n",
        "# Generate a random float between 0.0 and 1.0\n",
        "print(random.random())"
      ],
      "metadata": {
        "id": "tlpCTpX1cbQe",
        "colab": {
          "base_uri": "https://localhost:8080/"
        },
        "outputId": "ee54d96f-bc47-4ca8-9641-c52801c12a15"
      },
      "execution_count": null,
      "outputs": [
        {
          "output_type": "stream",
          "name": "stdout",
          "text": [
            "0.9578842612186259\n"
          ]
        }
      ]
    },
    {
      "cell_type": "code",
      "source": [
        "# Generate a random integer between 1 and 10\n",
        "print(random.randint(1, 10))"
      ],
      "metadata": {
        "id": "wBqLmdG4ce0_",
        "colab": {
          "base_uri": "https://localhost:8080/"
        },
        "outputId": "fac6a3f5-3d9b-46f7-f7f4-5b5b8968eaa6"
      },
      "execution_count": null,
      "outputs": [
        {
          "output_type": "stream",
          "name": "stdout",
          "text": [
            "10\n"
          ]
        }
      ]
    },
    {
      "cell_type": "code",
      "source": [
        "# Select a random element from a list\n",
        "fruits = ['apple', 'banana', 'cherry']\n",
        "print(random.choice(fruits))"
      ],
      "metadata": {
        "id": "3-WpEPPvcgt_",
        "colab": {
          "base_uri": "https://localhost:8080/"
        },
        "outputId": "74bc30d6-b527-4a3c-82e1-f29ba4b4456e"
      },
      "execution_count": null,
      "outputs": [
        {
          "output_type": "stream",
          "name": "stdout",
          "text": [
            "cherry\n"
          ]
        }
      ]
    },
    {
      "cell_type": "code",
      "source": [
        "# Shuffle a list\n",
        "random.shuffle(fruits)\n",
        "print(fruits)"
      ],
      "metadata": {
        "id": "tlWYGZClciAj",
        "colab": {
          "base_uri": "https://localhost:8080/"
        },
        "outputId": "64b5a71a-f43d-4d76-c208-4c717a22229a"
      },
      "execution_count": null,
      "outputs": [
        {
          "output_type": "stream",
          "name": "stdout",
          "text": [
            "['apple', 'cherry', 'banana']\n"
          ]
        }
      ]
    },
    {
      "cell_type": "code",
      "execution_count": null,
      "metadata": {
        "id": "lyJp0K5NAsLB",
        "colab": {
          "base_uri": "https://localhost:8080/"
        },
        "outputId": "35e9e800-b99a-4127-dd5c-07d174881dba"
      },
      "outputs": [
        {
          "output_type": "stream",
          "name": "stdout",
          "text": [
            "['Micah', 'Nima', 'Ezekiel', 'Mindy', 'Raquel', 'Amir', 'Diancheng', 'Wilfendjy', 'Zhao', 'Megnauth', 'Taha', 'Brian C', 'Ada', 'Justin', 'Brian S', 'Katelyn']\n"
          ]
        }
      ],
      "source": [
        "import random\n",
        "\n",
        "names = [\"Amir\",\"Ada\",\"Brian C\",\"Brian S\",\"Diancheng\",\"Ezekiel\",\"Justin\",\"Katelyn\",\"Megnauth\",\"Micah\",\"Mindy\",\"Nima\",\"Raquel\",\"Taha\",\"Wilfendjy\",\"Zhao\"]\n",
        "# chosen_name = random.choice(names)\n",
        "# print(chosen_name)\n",
        "\n",
        "random.shuffle(names)\n",
        "print(names)"
      ]
    },
    {
      "cell_type": "code",
      "source": [
        "#Select a random state\n",
        "states_of_america = [\"Delaware\", \"Pennsylvania\", \"New Jersey\", \"Georgia\", \"Connecticut\", \"Massachusetts\", \"Maryland\", \"South Carolina\", \"New Hampshire\", \"Virginia\", \"New York\", \"North Carolina\", \"Rhode Island\", \"Vermont\", \"Kentucky\", \"Tennessee\", \"Ohio\", \"Louisiana\", \"Indiana\", \"Mississippi\", \"Illinois\", \"Alabama\", \"Maine\", \"Missouri\", \"Arkansas\", \"Michigan\", \"Florida\", \"Texas\", \"Iowa\", \"Wisconsin\", \"California\", \"Minnesota\", \"Oregon\", \"Kansas\", \"West Virginia\", \"Nevada\", \"Nebraska\", \"Colorado\", \"North Dakota\", \"South Dakota\", \"Montana\", \"Washington\", \"Idaho\", \"Wyoming\", \"Utah\", \"Oklahoma\", \"New Mexico\", \"Arizona\", \"Alaska\", \"Hawaii\"]\n",
        "num_of_states = len(states_of_america)\n",
        "\n",
        "#for loop that uses the range function and the len function\n",
        "for i in range(num_of_states):\n",
        "  #print that item in that list\n",
        "  print(states_of_america[i])"
      ],
      "metadata": {
        "id": "EOCxU2hiEqZe"
      },
      "execution_count": null,
      "outputs": []
    },
    {
      "cell_type": "markdown",
      "source": [
        "\n",
        "\n",
        "---\n",
        "\n"
      ],
      "metadata": {
        "id": "Cfwdraf3eyEo"
      }
    },
    {
      "cell_type": "code",
      "source": [
        "# @title Rock, Paper, Scissors Game\n",
        "import random\n",
        "\n",
        "rock = '''\n",
        "    _______\n",
        "---'   ____)\n",
        "      (_____)\n",
        "      (_____)\n",
        "      (____)\n",
        "---.__(___)\n",
        "'''\n",
        "\n",
        "paper = '''\n",
        "    _______\n",
        "---'   ____)____\n",
        "          ______)\n",
        "          _______)\n",
        "         _______)\n",
        "---.__________)\n",
        "'''\n",
        "\n",
        "scissors = '''\n",
        "    _______\n",
        "---'   ____)____\n",
        "          ______)\n",
        "       __________)\n",
        "      (____)\n",
        "---.__(___)\n",
        "'''\n",
        "\n",
        "game_images = [rock, paper, scissors]"
      ],
      "metadata": {
        "id": "SHxktmt3Fgvl"
      },
      "execution_count": null,
      "outputs": []
    },
    {
      "cell_type": "code",
      "source": [
        "#We are going to Create a Rock, Paper, Scissors game\n",
        "import random\n",
        "\n",
        "user_choice = int(input(\"What do you choose? Type 0 for Rock, Type 1 for Paper or 2 for Scissors\\n\"))\n",
        "print(game_images[user_choice])\n",
        "\n",
        "computer_choice = random.randint(0,2)\n",
        "print(\"The computer chose:\")\n",
        "print(game_images[computer_choice])\n",
        "\n",
        "\n",
        "# if user_choice >=3 or user_choice <0:\n",
        "#   print(\"You typed an invalid number\")\n",
        "if user_choice == 0 and computer_choice ==2:\n",
        "  print(\"You Win\")\n",
        "elif computer_choice == 0 and user_choice ==2:\n",
        "  print(\"You lose\")\n",
        "elif computer_choice > user_choice:\n",
        "  print(\"You lose\")\n",
        "elif user_choice > computer_choice:\n",
        "  print(\"You win!\")\n",
        "elif computer_choice == user_choice:\n",
        "  print(\"It's a draw\")\n"
      ],
      "metadata": {
        "id": "443gry2Beizk"
      },
      "execution_count": null,
      "outputs": []
    },
    {
      "cell_type": "markdown",
      "source": [
        "\n",
        "\n",
        "---\n",
        "\n"
      ],
      "metadata": {
        "id": "WjEE4Dhke4yi"
      }
    },
    {
      "cell_type": "markdown",
      "source": [
        "<H3>Calculating Averages"
      ],
      "metadata": {
        "id": "5_ibjQtGeliC"
      }
    },
    {
      "cell_type": "markdown",
      "source": [
        "You are going to write a program that calculates the average student height from a List of heights.\n",
        "\n",
        "e.g. student_heights = [180, 124, 165, 173, 189, 169, 146]\n",
        "\n",
        "The average height can be calculated by adding all the heights together and dividing by the total number of heights.\n",
        "\n",
        "e.g.\n",
        "\n",
        "180 + 124 + 165 + 173 + 189 + 169 + 146 = 1146\n",
        "\n",
        "There are a total of 7 heights in student_heights\n",
        "\n",
        "1146 ÷ 7 = 163.71428571428572\n",
        "\n",
        "Average height rounded to the nearest whole number = 164\n",
        "\n",
        "Important You should not use the sum() or len() functions in your answer. You should try to replicate their functionality using what you have learnt about for loops.\n",
        "\n",
        "Example Input 1\n",
        "156 178 165 171 187\n",
        "In this case, student_heights would be a list that looks like: [156, 178, 165, 171, 187]\n",
        "\n",
        "Example Output 1\n",
        "total height = 857\n",
        "number of students = 5\n",
        "average height = 171\n",
        "Example Input 2\n",
        "151 145 179\n",
        "Example Output 2\n",
        "total height = 475\n",
        "number of students = 3\n",
        "average height = 158"
      ],
      "metadata": {
        "id": "5OLNGoPEHIR4"
      }
    },
    {
      "cell_type": "code",
      "source": [
        "# Input a Python list of student heights\n",
        "student_heights = input().split()\n",
        "for n in range(0, len(student_heights)):\n",
        "  student_heights[n] = int(student_heights[n])\n",
        "print(student_heights)\n",
        "# 🚨 Don't change the code above 👆\n",
        "\n",
        "# Write your code below this row 👇\n",
        "\n",
        "sum_of_num = 0\n",
        "number_of_studehts = 0\n",
        "\n",
        "for height in student_heights:\n",
        "  sum_of_num += height\n",
        "  number_of_studehts +=1\n",
        "print(sum_of_num / number_of_studehts)"
      ],
      "metadata": {
        "id": "GEKnC4hkHJwN",
        "colab": {
          "base_uri": "https://localhost:8080/"
        },
        "outputId": "399da0a5-8c6b-4c23-ec09-235516d12a5e"
      },
      "execution_count": null,
      "outputs": [
        {
          "output_type": "stream",
          "name": "stdout",
          "text": [
            "160 185 198 159\n",
            "[160, 185, 198, 159]\n",
            "175.5\n"
          ]
        }
      ]
    },
    {
      "cell_type": "markdown",
      "source": [
        "\n",
        "\n",
        "---\n",
        "\n"
      ],
      "metadata": {
        "id": "6bVCDOAcfJai"
      }
    },
    {
      "cell_type": "markdown",
      "source": [
        "<h3>Calculating the Sum of Even Numbers"
      ],
      "metadata": {
        "id": "XzqqqDO6eqLR"
      }
    },
    {
      "cell_type": "markdown",
      "source": [
        "Instructions\n",
        "You are going to write a program that calculates the sum of all the even numbers from 1 to X. If X is 100 then the first even number would be 2 and the last one is 100:\n",
        "\n",
        "i.e. 2 + 4 + 6 + 8 +10 ... + 98 + 100\n",
        "\n",
        "Important, there should only be 1 print statement in your console output. It should just print the final total and not every step of the calculation.\n",
        "\n",
        "Also, we will constrain the inputs to only take numbers from 0 to a max of 1000.\n",
        "\n",
        "Example Input 1\n",
        "10\n",
        "Example Output 1\n",
        "30\n",
        "Example Input 2\n",
        "52\n",
        "Example Output 2\n",
        "702\n",
        "Hint\n",
        "There are quite a few ways of solving this problem, but you will need to use the range() function in any of the solutions."
      ],
      "metadata": {
        "id": "SdaIUDMvI-cK"
      }
    },
    {
      "cell_type": "code",
      "source": [
        "target = int(input()) # Enter a number between 0 and 1000\n",
        "# 🚨 Do not change the code above ☝️\n",
        "\n",
        "# Write your code here 👇"
      ],
      "metadata": {
        "id": "TXTGVPUrI_Gr"
      },
      "execution_count": null,
      "outputs": []
    },
    {
      "cell_type": "markdown",
      "source": [
        "\n",
        "\n",
        "---\n",
        "\n"
      ],
      "metadata": {
        "id": "slwMsxPCfcCY"
      }
    },
    {
      "cell_type": "markdown",
      "source": [
        "[link text](https://)"
      ],
      "metadata": {
        "id": "ytPz_rVcfSJW"
      }
    },
    {
      "cell_type": "markdown",
      "source": [
        "<H3> FizzBuzz Game"
      ],
      "metadata": {
        "id": "cJmCeUCMfTm5"
      }
    },
    {
      "cell_type": "markdown",
      "source": [
        "Instructions\n",
        "You are going to write a program that automatically prints the solution to the FizzBuzz game. These are the rules of the FizzBuzz game:\n",
        "\n",
        "Your program should print each number from 1 to 30 in turn and include number 100.\n",
        "\n",
        "When the number is divisible by 3 then instead of printing the number it should print \"Fizz\".\n",
        "\n",
        "When the number is divisible by 5, then instead of printing the number it should print \"Buzz\".`\n",
        "\n",
        "And if the number is divisible by both 3 and 5 e.g. 15 then instead of the number it should print \"FizzBuzz\"\n",
        "\n",
        "e.g. it might start off like this:\n",
        "\n",
        "1\n",
        "2\n",
        "Fizz\n",
        "4\n",
        "Buzz\n",
        "Fizz\n",
        "7\n",
        "8\n",
        "Fizz\n",
        "Buzz\n",
        "11\n",
        "Fizz\n",
        "13\n",
        "14"
      ],
      "metadata": {
        "id": "WKMVGzcrJw60"
      }
    },
    {
      "cell_type": "code",
      "source": [
        "#Write your code here\n",
        "\n",
        "numlist = list(range(1, 31))\n",
        "\n",
        "for i in numlist:\n",
        "    if i % 3 == 0 and i % 5 == 0:\n",
        "        print(\"FizzBuzz\")\n",
        "    elif i % 3 == 0:\n",
        "        print(\"Fizz\")\n",
        "    elif i % 5 == 0:\n",
        "        print(\"Buzz\")\n",
        "    else:\n",
        "        print(i)"
      ],
      "metadata": {
        "id": "f8Xj7IuQJx_t",
        "colab": {
          "base_uri": "https://localhost:8080/"
        },
        "outputId": "f8e53e4a-5281-4ffd-a95e-a77b7a903360"
      },
      "execution_count": null,
      "outputs": [
        {
          "output_type": "stream",
          "name": "stdout",
          "text": [
            "1\n",
            "2\n",
            "Fizz\n",
            "4\n",
            "Buzz\n",
            "Fizz\n",
            "7\n",
            "8\n",
            "Fizz\n",
            "Buzz\n",
            "11\n",
            "Fizz\n",
            "13\n",
            "14\n",
            "FizzBuzz\n",
            "16\n",
            "17\n",
            "Fizz\n",
            "19\n",
            "Buzz\n",
            "Fizz\n",
            "22\n",
            "23\n",
            "Fizz\n",
            "Buzz\n",
            "26\n",
            "Fizz\n",
            "28\n",
            "29\n",
            "FizzBuzz\n"
          ]
        }
      ]
    },
    {
      "cell_type": "markdown",
      "source": [
        "\n",
        "\n",
        "---\n",
        "\n"
      ],
      "metadata": {
        "id": "-qsXOuGxfXfj"
      }
    },
    {
      "cell_type": "markdown",
      "source": [
        "Understanding Nested Loops"
      ],
      "metadata": {
        "id": "cP1C7P1fKwk1"
      }
    },
    {
      "cell_type": "code",
      "source": [
        "for x in range(1,10):\n",
        "  print(x, end= \"\")"
      ],
      "metadata": {
        "id": "wqoIBe-QKyTr",
        "colab": {
          "base_uri": "https://localhost:8080/"
        },
        "outputId": "709c759d-0110-4fdb-9778-87cf99f36c83"
      },
      "execution_count": null,
      "outputs": [
        {
          "output_type": "stream",
          "name": "stdout",
          "text": [
            "123456789"
          ]
        }
      ]
    },
    {
      "cell_type": "code",
      "source": [
        "for x in range(3):\n",
        "  for y in range(1,11):\n",
        "    print(y, end=\"\")\n",
        "  print(x)"
      ],
      "metadata": {
        "id": "0-4v9bIfK--h",
        "colab": {
          "base_uri": "https://localhost:8080/"
        },
        "outputId": "fbc3f90b-c725-4c6d-d7d0-e8239e8d0432"
      },
      "execution_count": null,
      "outputs": [
        {
          "output_type": "stream",
          "name": "stdout",
          "text": [
            "123456789100\n",
            "123456789101\n",
            "123456789102\n"
          ]
        }
      ]
    },
    {
      "cell_type": "markdown",
      "source": [
        "\n",
        "\n",
        "---\n",
        "\n"
      ],
      "metadata": {
        "id": "hN1eH7K0fk5B"
      }
    },
    {
      "cell_type": "markdown",
      "source": [
        "<h3> Creating Rows and Columns"
      ],
      "metadata": {
        "id": "OuebAWCcfhmc"
      }
    },
    {
      "cell_type": "code",
      "source": [
        "rows = int(input(\"enter the number of rows:\"))\n",
        "columns = int(input(\"enter the number of columns:\"))\n",
        "symbol = input(\"Enter a symbol to use:\")\n",
        "\n",
        "#Write your answers here\n",
        "for x in range(rows):\n",
        "  for y in range(columns):\n",
        "    print(symbol, end=\"\")\n",
        "  print()"
      ],
      "metadata": {
        "id": "wMdEkr1-LVlr",
        "colab": {
          "base_uri": "https://localhost:8080/"
        },
        "outputId": "9030893a-fdd8-4a27-e7b1-541d578e818e"
      },
      "execution_count": null,
      "outputs": [
        {
          "output_type": "stream",
          "name": "stdout",
          "text": [
            "enter the number of rows:3\n",
            "enter the number of columns:8\n",
            "Enter a symbol to use:*\n",
            "********\n",
            "********\n",
            "********\n"
          ]
        }
      ]
    },
    {
      "cell_type": "markdown",
      "source": [
        "\n",
        "\n",
        "---\n",
        "\n"
      ],
      "metadata": {
        "id": "HBze4RzSflsE"
      }
    },
    {
      "cell_type": "markdown",
      "source": [
        "<h3>Random Password Generator"
      ],
      "metadata": {
        "id": "hC0wQ4NrM-Zq"
      }
    },
    {
      "cell_type": "code",
      "source": [
        "#Password Generator Project\n",
        "import random\n",
        "letters = ['a', 'b', 'c', 'd', 'e', 'f', 'g', 'h', 'i', 'j', 'k', 'l', 'm', 'n', 'o', 'p', 'q', 'r', 's', 't', 'u', 'v', 'w', 'x', 'y', 'z', 'A', 'B', 'C', 'D', 'E', 'F', 'G', 'H', 'I', 'J', 'K', 'L', 'M', 'N', 'O', 'P', 'Q', 'R', 'S', 'T', 'U', 'V', 'W', 'X', 'Y', 'Z']\n",
        "numbers = ['0', '1', '2', '3', '4', '5', '6', '7', '8', '9']\n",
        "symbols = ['!', '#', '$', '%', '&', '(', ')', '*', '+']\n",
        "\n",
        "print(\"Welcome to the PyPassword Generator!\")\n",
        "nr_letters= int(input(\"How many letters would you like in your password?\\n\"))\n",
        "nr_symbols = int(input(f\"How many symbols would you like?\\n\"))\n",
        "nr_numbers = int(input(f\"How many numbers would you like?\\n\"))\n"
      ],
      "metadata": {
        "id": "RToj0tB7M_y9"
      },
      "execution_count": null,
      "outputs": []
    },
    {
      "cell_type": "markdown",
      "source": [
        "Built in functions\n",
        "https://docs.python.org/3/library/functions.html"
      ],
      "metadata": {
        "id": "fsNfvzbLOs9K"
      }
    },
    {
      "cell_type": "markdown",
      "source": [
        "Understanding Functions\n",
        "\n",
        "https://reeborg.ca/reeborg.html?lang=en&mode=python&menu=worlds%2Fmenus%2Freeborg_intro_en.json&name=Alone&url=worlds%2Ftutorial_en%2Falone.json\n",
        "\n",
        "\n",
        "https://reeborg.ca/reeborg.html?lang=en&mode=python&menu=worlds%2Fmenus%2Freeborg_intro_en.json&name=Hurdle%201&url=worlds%2Ftutorial_en%2Fhurdle1.json"
      ],
      "metadata": {
        "id": "kuBlO0fwOmZT"
      }
    }
  ]
}